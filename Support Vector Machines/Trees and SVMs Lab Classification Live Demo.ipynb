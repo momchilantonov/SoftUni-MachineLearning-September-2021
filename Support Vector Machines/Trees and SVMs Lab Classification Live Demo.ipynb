{
 "cells": [
  {
   "cell_type": "markdown",
   "id": "a415b04c",
   "metadata": {},
   "source": [
    "##### imports"
   ]
  },
  {
   "cell_type": "code",
   "execution_count": 1,
   "id": "1664ec9d",
   "metadata": {},
   "outputs": [],
   "source": [
    "%matplotlib inline\n",
    "import matplotlib.pyplot as plt\n",
    "import numpy as np\n",
    "import pandas as pd\n",
    "from sklearn.preprocessing import MinMaxScaler\n",
    "from sklearn.model_selection import train_test_split\n",
    "from sklearn.svm import LinearSVC, SVC, OneClassSVM\n",
    "from sklearn.metrics import classification_report\n",
    "from sklearn.neighbors import KNeighborsClassifier"
   ]
  },
  {
   "cell_type": "markdown",
   "id": "3dc7b3c4",
   "metadata": {},
   "source": [
    "# Support Vector Machines\n",
    "## Classification"
   ]
  },
  {
   "cell_type": "markdown",
   "id": "1e528025",
   "metadata": {},
   "source": [
    "##### read data"
   ]
  },
  {
   "cell_type": "code",
   "execution_count": 2,
   "id": "3c99ab48",
   "metadata": {
    "scrolled": false
   },
   "outputs": [
    {
     "data": {
      "text/html": [
       "<div>\n",
       "<style scoped>\n",
       "    .dataframe tbody tr th:only-of-type {\n",
       "        vertical-align: middle;\n",
       "    }\n",
       "\n",
       "    .dataframe tbody tr th {\n",
       "        vertical-align: top;\n",
       "    }\n",
       "\n",
       "    .dataframe thead th {\n",
       "        text-align: right;\n",
       "    }\n",
       "</style>\n",
       "<table border=\"1\" class=\"dataframe\">\n",
       "  <thead>\n",
       "    <tr style=\"text-align: right;\">\n",
       "      <th></th>\n",
       "      <th>encounter_id</th>\n",
       "      <th>patient_nbr</th>\n",
       "      <th>race</th>\n",
       "      <th>gender</th>\n",
       "      <th>age</th>\n",
       "      <th>weight</th>\n",
       "      <th>admission_type_id</th>\n",
       "      <th>discharge_disposition_id</th>\n",
       "      <th>admission_source_id</th>\n",
       "      <th>time_in_hospital</th>\n",
       "      <th>...</th>\n",
       "      <th>citoglipton</th>\n",
       "      <th>insulin</th>\n",
       "      <th>glyburide-metformin</th>\n",
       "      <th>glipizide-metformin</th>\n",
       "      <th>glimepiride-pioglitazone</th>\n",
       "      <th>metformin-rosiglitazone</th>\n",
       "      <th>metformin-pioglitazone</th>\n",
       "      <th>change</th>\n",
       "      <th>diabetesMed</th>\n",
       "      <th>readmitted</th>\n",
       "    </tr>\n",
       "  </thead>\n",
       "  <tbody>\n",
       "    <tr>\n",
       "      <th>0</th>\n",
       "      <td>2278392</td>\n",
       "      <td>8222157</td>\n",
       "      <td>Caucasian</td>\n",
       "      <td>Female</td>\n",
       "      <td>[0-10)</td>\n",
       "      <td>?</td>\n",
       "      <td>6</td>\n",
       "      <td>25</td>\n",
       "      <td>1</td>\n",
       "      <td>1</td>\n",
       "      <td>...</td>\n",
       "      <td>No</td>\n",
       "      <td>No</td>\n",
       "      <td>No</td>\n",
       "      <td>No</td>\n",
       "      <td>No</td>\n",
       "      <td>No</td>\n",
       "      <td>No</td>\n",
       "      <td>No</td>\n",
       "      <td>No</td>\n",
       "      <td>NO</td>\n",
       "    </tr>\n",
       "    <tr>\n",
       "      <th>1</th>\n",
       "      <td>149190</td>\n",
       "      <td>55629189</td>\n",
       "      <td>Caucasian</td>\n",
       "      <td>Female</td>\n",
       "      <td>[10-20)</td>\n",
       "      <td>?</td>\n",
       "      <td>1</td>\n",
       "      <td>1</td>\n",
       "      <td>7</td>\n",
       "      <td>3</td>\n",
       "      <td>...</td>\n",
       "      <td>No</td>\n",
       "      <td>Up</td>\n",
       "      <td>No</td>\n",
       "      <td>No</td>\n",
       "      <td>No</td>\n",
       "      <td>No</td>\n",
       "      <td>No</td>\n",
       "      <td>Ch</td>\n",
       "      <td>Yes</td>\n",
       "      <td>&gt;30</td>\n",
       "    </tr>\n",
       "    <tr>\n",
       "      <th>2</th>\n",
       "      <td>64410</td>\n",
       "      <td>86047875</td>\n",
       "      <td>AfricanAmerican</td>\n",
       "      <td>Female</td>\n",
       "      <td>[20-30)</td>\n",
       "      <td>?</td>\n",
       "      <td>1</td>\n",
       "      <td>1</td>\n",
       "      <td>7</td>\n",
       "      <td>2</td>\n",
       "      <td>...</td>\n",
       "      <td>No</td>\n",
       "      <td>No</td>\n",
       "      <td>No</td>\n",
       "      <td>No</td>\n",
       "      <td>No</td>\n",
       "      <td>No</td>\n",
       "      <td>No</td>\n",
       "      <td>No</td>\n",
       "      <td>Yes</td>\n",
       "      <td>NO</td>\n",
       "    </tr>\n",
       "    <tr>\n",
       "      <th>3</th>\n",
       "      <td>500364</td>\n",
       "      <td>82442376</td>\n",
       "      <td>Caucasian</td>\n",
       "      <td>Male</td>\n",
       "      <td>[30-40)</td>\n",
       "      <td>?</td>\n",
       "      <td>1</td>\n",
       "      <td>1</td>\n",
       "      <td>7</td>\n",
       "      <td>2</td>\n",
       "      <td>...</td>\n",
       "      <td>No</td>\n",
       "      <td>Up</td>\n",
       "      <td>No</td>\n",
       "      <td>No</td>\n",
       "      <td>No</td>\n",
       "      <td>No</td>\n",
       "      <td>No</td>\n",
       "      <td>Ch</td>\n",
       "      <td>Yes</td>\n",
       "      <td>NO</td>\n",
       "    </tr>\n",
       "    <tr>\n",
       "      <th>4</th>\n",
       "      <td>16680</td>\n",
       "      <td>42519267</td>\n",
       "      <td>Caucasian</td>\n",
       "      <td>Male</td>\n",
       "      <td>[40-50)</td>\n",
       "      <td>?</td>\n",
       "      <td>1</td>\n",
       "      <td>1</td>\n",
       "      <td>7</td>\n",
       "      <td>1</td>\n",
       "      <td>...</td>\n",
       "      <td>No</td>\n",
       "      <td>Steady</td>\n",
       "      <td>No</td>\n",
       "      <td>No</td>\n",
       "      <td>No</td>\n",
       "      <td>No</td>\n",
       "      <td>No</td>\n",
       "      <td>Ch</td>\n",
       "      <td>Yes</td>\n",
       "      <td>NO</td>\n",
       "    </tr>\n",
       "    <tr>\n",
       "      <th>...</th>\n",
       "      <td>...</td>\n",
       "      <td>...</td>\n",
       "      <td>...</td>\n",
       "      <td>...</td>\n",
       "      <td>...</td>\n",
       "      <td>...</td>\n",
       "      <td>...</td>\n",
       "      <td>...</td>\n",
       "      <td>...</td>\n",
       "      <td>...</td>\n",
       "      <td>...</td>\n",
       "      <td>...</td>\n",
       "      <td>...</td>\n",
       "      <td>...</td>\n",
       "      <td>...</td>\n",
       "      <td>...</td>\n",
       "      <td>...</td>\n",
       "      <td>...</td>\n",
       "      <td>...</td>\n",
       "      <td>...</td>\n",
       "      <td>...</td>\n",
       "    </tr>\n",
       "    <tr>\n",
       "      <th>101761</th>\n",
       "      <td>443847548</td>\n",
       "      <td>100162476</td>\n",
       "      <td>AfricanAmerican</td>\n",
       "      <td>Male</td>\n",
       "      <td>[70-80)</td>\n",
       "      <td>?</td>\n",
       "      <td>1</td>\n",
       "      <td>3</td>\n",
       "      <td>7</td>\n",
       "      <td>3</td>\n",
       "      <td>...</td>\n",
       "      <td>No</td>\n",
       "      <td>Down</td>\n",
       "      <td>No</td>\n",
       "      <td>No</td>\n",
       "      <td>No</td>\n",
       "      <td>No</td>\n",
       "      <td>No</td>\n",
       "      <td>Ch</td>\n",
       "      <td>Yes</td>\n",
       "      <td>&gt;30</td>\n",
       "    </tr>\n",
       "    <tr>\n",
       "      <th>101762</th>\n",
       "      <td>443847782</td>\n",
       "      <td>74694222</td>\n",
       "      <td>AfricanAmerican</td>\n",
       "      <td>Female</td>\n",
       "      <td>[80-90)</td>\n",
       "      <td>?</td>\n",
       "      <td>1</td>\n",
       "      <td>4</td>\n",
       "      <td>5</td>\n",
       "      <td>5</td>\n",
       "      <td>...</td>\n",
       "      <td>No</td>\n",
       "      <td>Steady</td>\n",
       "      <td>No</td>\n",
       "      <td>No</td>\n",
       "      <td>No</td>\n",
       "      <td>No</td>\n",
       "      <td>No</td>\n",
       "      <td>No</td>\n",
       "      <td>Yes</td>\n",
       "      <td>NO</td>\n",
       "    </tr>\n",
       "    <tr>\n",
       "      <th>101763</th>\n",
       "      <td>443854148</td>\n",
       "      <td>41088789</td>\n",
       "      <td>Caucasian</td>\n",
       "      <td>Male</td>\n",
       "      <td>[70-80)</td>\n",
       "      <td>?</td>\n",
       "      <td>1</td>\n",
       "      <td>1</td>\n",
       "      <td>7</td>\n",
       "      <td>1</td>\n",
       "      <td>...</td>\n",
       "      <td>No</td>\n",
       "      <td>Down</td>\n",
       "      <td>No</td>\n",
       "      <td>No</td>\n",
       "      <td>No</td>\n",
       "      <td>No</td>\n",
       "      <td>No</td>\n",
       "      <td>Ch</td>\n",
       "      <td>Yes</td>\n",
       "      <td>NO</td>\n",
       "    </tr>\n",
       "    <tr>\n",
       "      <th>101764</th>\n",
       "      <td>443857166</td>\n",
       "      <td>31693671</td>\n",
       "      <td>Caucasian</td>\n",
       "      <td>Female</td>\n",
       "      <td>[80-90)</td>\n",
       "      <td>?</td>\n",
       "      <td>2</td>\n",
       "      <td>3</td>\n",
       "      <td>7</td>\n",
       "      <td>10</td>\n",
       "      <td>...</td>\n",
       "      <td>No</td>\n",
       "      <td>Up</td>\n",
       "      <td>No</td>\n",
       "      <td>No</td>\n",
       "      <td>No</td>\n",
       "      <td>No</td>\n",
       "      <td>No</td>\n",
       "      <td>Ch</td>\n",
       "      <td>Yes</td>\n",
       "      <td>NO</td>\n",
       "    </tr>\n",
       "    <tr>\n",
       "      <th>101765</th>\n",
       "      <td>443867222</td>\n",
       "      <td>175429310</td>\n",
       "      <td>Caucasian</td>\n",
       "      <td>Male</td>\n",
       "      <td>[70-80)</td>\n",
       "      <td>?</td>\n",
       "      <td>1</td>\n",
       "      <td>1</td>\n",
       "      <td>7</td>\n",
       "      <td>6</td>\n",
       "      <td>...</td>\n",
       "      <td>No</td>\n",
       "      <td>No</td>\n",
       "      <td>No</td>\n",
       "      <td>No</td>\n",
       "      <td>No</td>\n",
       "      <td>No</td>\n",
       "      <td>No</td>\n",
       "      <td>No</td>\n",
       "      <td>No</td>\n",
       "      <td>NO</td>\n",
       "    </tr>\n",
       "  </tbody>\n",
       "</table>\n",
       "<p>101766 rows × 50 columns</p>\n",
       "</div>"
      ],
      "text/plain": [
       "        encounter_id  patient_nbr             race  gender      age weight  \\\n",
       "0            2278392      8222157        Caucasian  Female   [0-10)      ?   \n",
       "1             149190     55629189        Caucasian  Female  [10-20)      ?   \n",
       "2              64410     86047875  AfricanAmerican  Female  [20-30)      ?   \n",
       "3             500364     82442376        Caucasian    Male  [30-40)      ?   \n",
       "4              16680     42519267        Caucasian    Male  [40-50)      ?   \n",
       "...              ...          ...              ...     ...      ...    ...   \n",
       "101761     443847548    100162476  AfricanAmerican    Male  [70-80)      ?   \n",
       "101762     443847782     74694222  AfricanAmerican  Female  [80-90)      ?   \n",
       "101763     443854148     41088789        Caucasian    Male  [70-80)      ?   \n",
       "101764     443857166     31693671        Caucasian  Female  [80-90)      ?   \n",
       "101765     443867222    175429310        Caucasian    Male  [70-80)      ?   \n",
       "\n",
       "        admission_type_id  discharge_disposition_id  admission_source_id  \\\n",
       "0                       6                        25                    1   \n",
       "1                       1                         1                    7   \n",
       "2                       1                         1                    7   \n",
       "3                       1                         1                    7   \n",
       "4                       1                         1                    7   \n",
       "...                   ...                       ...                  ...   \n",
       "101761                  1                         3                    7   \n",
       "101762                  1                         4                    5   \n",
       "101763                  1                         1                    7   \n",
       "101764                  2                         3                    7   \n",
       "101765                  1                         1                    7   \n",
       "\n",
       "        time_in_hospital  ... citoglipton insulin  glyburide-metformin  \\\n",
       "0                      1  ...          No      No                   No   \n",
       "1                      3  ...          No      Up                   No   \n",
       "2                      2  ...          No      No                   No   \n",
       "3                      2  ...          No      Up                   No   \n",
       "4                      1  ...          No  Steady                   No   \n",
       "...                  ...  ...         ...     ...                  ...   \n",
       "101761                 3  ...          No    Down                   No   \n",
       "101762                 5  ...          No  Steady                   No   \n",
       "101763                 1  ...          No    Down                   No   \n",
       "101764                10  ...          No      Up                   No   \n",
       "101765                 6  ...          No      No                   No   \n",
       "\n",
       "        glipizide-metformin  glimepiride-pioglitazone  \\\n",
       "0                        No                        No   \n",
       "1                        No                        No   \n",
       "2                        No                        No   \n",
       "3                        No                        No   \n",
       "4                        No                        No   \n",
       "...                     ...                       ...   \n",
       "101761                   No                        No   \n",
       "101762                   No                        No   \n",
       "101763                   No                        No   \n",
       "101764                   No                        No   \n",
       "101765                   No                        No   \n",
       "\n",
       "        metformin-rosiglitazone  metformin-pioglitazone  change diabetesMed  \\\n",
       "0                            No                      No      No          No   \n",
       "1                            No                      No      Ch         Yes   \n",
       "2                            No                      No      No         Yes   \n",
       "3                            No                      No      Ch         Yes   \n",
       "4                            No                      No      Ch         Yes   \n",
       "...                         ...                     ...     ...         ...   \n",
       "101761                       No                      No      Ch         Yes   \n",
       "101762                       No                      No      No         Yes   \n",
       "101763                       No                      No      Ch         Yes   \n",
       "101764                       No                      No      Ch         Yes   \n",
       "101765                       No                      No      No          No   \n",
       "\n",
       "       readmitted  \n",
       "0              NO  \n",
       "1             >30  \n",
       "2              NO  \n",
       "3              NO  \n",
       "4              NO  \n",
       "...           ...  \n",
       "101761        >30  \n",
       "101762         NO  \n",
       "101763         NO  \n",
       "101764         NO  \n",
       "101765         NO  \n",
       "\n",
       "[101766 rows x 50 columns]"
      ]
     },
     "execution_count": 2,
     "metadata": {},
     "output_type": "execute_result"
    }
   ],
   "source": [
    "diabetes_data = pd.read_csv('data/diabetic_data.csv')\n",
    "diabetes_data"
   ]
  },
  {
   "cell_type": "markdown",
   "id": "dee9e7af",
   "metadata": {},
   "source": [
    "##### check all dtypes"
   ]
  },
  {
   "cell_type": "code",
   "execution_count": 3,
   "id": "fa7c1e6c",
   "metadata": {
    "scrolled": false
   },
   "outputs": [
    {
     "data": {
      "text/plain": [
       "encounter_id                 int64\n",
       "patient_nbr                  int64\n",
       "race                        object\n",
       "gender                      object\n",
       "age                         object\n",
       "weight                      object\n",
       "admission_type_id            int64\n",
       "discharge_disposition_id     int64\n",
       "admission_source_id          int64\n",
       "time_in_hospital             int64\n",
       "payer_code                  object\n",
       "medical_specialty           object\n",
       "num_lab_procedures           int64\n",
       "num_procedures               int64\n",
       "num_medications              int64\n",
       "number_outpatient            int64\n",
       "number_emergency             int64\n",
       "number_inpatient             int64\n",
       "diag_1                      object\n",
       "diag_2                      object\n",
       "diag_3                      object\n",
       "number_diagnoses             int64\n",
       "max_glu_serum               object\n",
       "A1Cresult                   object\n",
       "metformin                   object\n",
       "repaglinide                 object\n",
       "nateglinide                 object\n",
       "chlorpropamide              object\n",
       "glimepiride                 object\n",
       "acetohexamide               object\n",
       "glipizide                   object\n",
       "glyburide                   object\n",
       "tolbutamide                 object\n",
       "pioglitazone                object\n",
       "rosiglitazone               object\n",
       "acarbose                    object\n",
       "miglitol                    object\n",
       "troglitazone                object\n",
       "tolazamide                  object\n",
       "examide                     object\n",
       "citoglipton                 object\n",
       "insulin                     object\n",
       "glyburide-metformin         object\n",
       "glipizide-metformin         object\n",
       "glimepiride-pioglitazone    object\n",
       "metformin-rosiglitazone     object\n",
       "metformin-pioglitazone      object\n",
       "change                      object\n",
       "diabetesMed                 object\n",
       "readmitted                  object\n",
       "dtype: object"
      ]
     },
     "execution_count": 3,
     "metadata": {},
     "output_type": "execute_result"
    }
   ],
   "source": [
    "diabetes_data.dtypes"
   ]
  },
  {
   "cell_type": "markdown",
   "id": "1ae012ad",
   "metadata": {},
   "source": [
    "##### separate attributes and targets from the dataset"
   ]
  },
  {
   "cell_type": "code",
   "execution_count": 4,
   "id": "59810e22",
   "metadata": {},
   "outputs": [],
   "source": [
    "diabetes_data_attr = diabetes_data.drop('readmitted', axis=1)\n",
    "diabetes_data_trg = diabetes_data['readmitted']"
   ]
  },
  {
   "cell_type": "markdown",
   "id": "adf55bab",
   "metadata": {},
   "source": [
    "##### make attr One-Hot Encoding for Categorical Data (pandas.get_dummies)"
   ]
  },
  {
   "cell_type": "code",
   "execution_count": 5,
   "id": "9b13981e",
   "metadata": {},
   "outputs": [],
   "source": [
    "diabetes_data_attr =pd.get_dummies(diabetes_data_attr)"
   ]
  },
  {
   "cell_type": "markdown",
   "id": "c09f7ba9",
   "metadata": {},
   "source": [
    "##### check the new shape of the data"
   ]
  },
  {
   "cell_type": "code",
   "execution_count": 6,
   "id": "f614dd52",
   "metadata": {},
   "outputs": [
    {
     "data": {
      "text/plain": [
       "(101766, 2472)"
      ]
     },
     "execution_count": 6,
     "metadata": {},
     "output_type": "execute_result"
    }
   ],
   "source": [
    "diabetes_data_attr.shape"
   ]
  },
  {
   "cell_type": "markdown",
   "id": "6726f02f",
   "metadata": {},
   "source": [
    "##### scaling the attributes"
   ]
  },
  {
   "cell_type": "code",
   "execution_count": 7,
   "id": "6a11a232",
   "metadata": {},
   "outputs": [],
   "source": [
    "scalar = MinMaxScaler()\n",
    "diabetes_data_attr_scaled = scalar.fit_transform(diabetes_data_attr)"
   ]
  },
  {
   "cell_type": "markdown",
   "id": "6be53b57",
   "metadata": {},
   "source": [
    "##### check the scaling is ok -> min must be 0 and max must be 1"
   ]
  },
  {
   "cell_type": "code",
   "execution_count": 8,
   "id": "40e6abc3",
   "metadata": {
    "scrolled": true
   },
   "outputs": [
    {
     "data": {
      "text/plain": [
       "(array([0., 0., 0., ..., 0., 0., 0.]), array([1., 1., 1., ..., 1., 1., 1.]))"
      ]
     },
     "execution_count": 8,
     "metadata": {},
     "output_type": "execute_result"
    }
   ],
   "source": [
    "diabetes_data_attr_scaled.min(axis=0), diabetes_data_attr_scaled.max(axis=0)"
   ]
  },
  {
   "cell_type": "markdown",
   "id": "0853daa9",
   "metadata": {},
   "source": [
    "##### split the data to use just a part of it, couse SVM is slow function"
   ]
  },
  {
   "cell_type": "code",
   "execution_count": 9,
   "id": "063534c6",
   "metadata": {},
   "outputs": [],
   "source": [
    "all_data, _, all_targets, _ = train_test_split(diabetes_data_attr_scaled, diabetes_data_trg, train_size=0.1)"
   ]
  },
  {
   "cell_type": "markdown",
   "id": "c93ab179",
   "metadata": {},
   "source": [
    "##### this time split for train and test set"
   ]
  },
  {
   "cell_type": "code",
   "execution_count": 10,
   "id": "b2d66ba6",
   "metadata": {},
   "outputs": [],
   "source": [
    "diab_train, diab_test, targ_train, targ_test = train_test_split(all_data, all_targets, train_size=0.2, stratify=all_targets)"
   ]
  },
  {
   "cell_type": "markdown",
   "id": "0d50db8e",
   "metadata": {},
   "source": [
    "##### create SVM (Linear SVC) and train it"
   ]
  },
  {
   "cell_type": "code",
   "execution_count": 11,
   "id": "4f3a8885",
   "metadata": {},
   "outputs": [
    {
     "data": {
      "text/plain": [
       "LinearSVC(C=10, max_iter=100000.0)"
      ]
     },
     "execution_count": 11,
     "metadata": {},
     "output_type": "execute_result"
    }
   ],
   "source": [
    "svm = LinearSVC(C = 10, max_iter=1e5)\n",
    "svm.fit(diab_train, targ_train)"
   ]
  },
  {
   "cell_type": "markdown",
   "id": "346d177f",
   "metadata": {},
   "source": [
    "##### check the coef -> similar to logistic regression"
   ]
  },
  {
   "cell_type": "code",
   "execution_count": 12,
   "id": "91c04172",
   "metadata": {
    "scrolled": true
   },
   "outputs": [
    {
     "data": {
      "text/plain": [
       "array([[-0.08527889,  0.22850809, -0.22344474, ...,  0.17837784,\n",
       "         0.1572933 , -0.16443653],\n",
       "       [-0.75167839,  0.60097078,  0.04597542, ..., -0.12826211,\n",
       "        -0.24078219,  0.16922543],\n",
       "       [ 0.76821091, -0.57289241,  0.05787692, ...,  0.0153979 ,\n",
       "         0.14200224, -0.13018017]])"
      ]
     },
     "execution_count": 12,
     "metadata": {},
     "output_type": "execute_result"
    }
   ],
   "source": [
    "svm.coef_"
   ]
  },
  {
   "cell_type": "markdown",
   "id": "1d4089bc",
   "metadata": {},
   "source": [
    "##### create gaussian svm"
   ]
  },
  {
   "cell_type": "code",
   "execution_count": 13,
   "id": "0bbcc72b",
   "metadata": {},
   "outputs": [
    {
     "data": {
      "text/plain": [
       "SVC(C=100000.0)"
      ]
     },
     "execution_count": 13,
     "metadata": {},
     "output_type": "execute_result"
    }
   ],
   "source": [
    "gaussian_svm = SVC(kernel='rbf', C=1e5)\n",
    "gaussian_svm.fit(diab_train, targ_train)"
   ]
  },
  {
   "cell_type": "markdown",
   "id": "ab59cad7",
   "metadata": {},
   "source": [
    "##### classification_report with train set"
   ]
  },
  {
   "cell_type": "code",
   "execution_count": 14,
   "id": "359485e3",
   "metadata": {
    "scrolled": false
   },
   "outputs": [
    {
     "name": "stdout",
     "output_type": "stream",
     "text": [
      "              precision    recall  f1-score   support\n",
      "\n",
      "         <30       0.84      0.59      0.69       233\n",
      "         >30       0.79      0.75      0.77       704\n",
      "          NO       0.82      0.90      0.86      1098\n",
      "\n",
      "    accuracy                           0.81      2035\n",
      "   macro avg       0.82      0.75      0.77      2035\n",
      "weighted avg       0.81      0.81      0.81      2035\n",
      "\n"
     ]
    }
   ],
   "source": [
    "print(classification_report(targ_train, svm.predict(diab_train)))"
   ]
  },
  {
   "cell_type": "code",
   "execution_count": 15,
   "id": "897b090e",
   "metadata": {
    "scrolled": true
   },
   "outputs": [
    {
     "name": "stdout",
     "output_type": "stream",
     "text": [
      "              precision    recall  f1-score   support\n",
      "\n",
      "         <30       1.00      1.00      1.00       233\n",
      "         >30       1.00      1.00      1.00       704\n",
      "          NO       1.00      1.00      1.00      1098\n",
      "\n",
      "    accuracy                           1.00      2035\n",
      "   macro avg       1.00      1.00      1.00      2035\n",
      "weighted avg       1.00      1.00      1.00      2035\n",
      "\n"
     ]
    }
   ],
   "source": [
    "print(classification_report(targ_train, gaussian_svm.predict(diab_train)))"
   ]
  },
  {
   "cell_type": "markdown",
   "id": "d50878be",
   "metadata": {},
   "source": [
    "##### classification_report with test set"
   ]
  },
  {
   "cell_type": "code",
   "execution_count": 16,
   "id": "4aa43709",
   "metadata": {
    "scrolled": true
   },
   "outputs": [
    {
     "name": "stdout",
     "output_type": "stream",
     "text": [
      "              precision    recall  f1-score   support\n",
      "\n",
      "         <30       0.14      0.10      0.12       932\n",
      "         >30       0.41      0.39      0.40      2816\n",
      "          NO       0.59      0.63      0.61      4393\n",
      "\n",
      "    accuracy                           0.49      8141\n",
      "   macro avg       0.38      0.38      0.38      8141\n",
      "weighted avg       0.48      0.49      0.48      8141\n",
      "\n"
     ]
    }
   ],
   "source": [
    "print(classification_report(targ_test, svm.predict(diab_test)))"
   ]
  },
  {
   "cell_type": "code",
   "execution_count": 17,
   "id": "2f74c129",
   "metadata": {
    "scrolled": true
   },
   "outputs": [
    {
     "name": "stdout",
     "output_type": "stream",
     "text": [
      "              precision    recall  f1-score   support\n",
      "\n",
      "         <30       0.17      0.13      0.15       932\n",
      "         >30       0.41      0.41      0.41      2816\n",
      "          NO       0.59      0.63      0.61      4393\n",
      "\n",
      "    accuracy                           0.49      8141\n",
      "   macro avg       0.39      0.39      0.39      8141\n",
      "weighted avg       0.48      0.49      0.49      8141\n",
      "\n"
     ]
    }
   ],
   "source": [
    "print(classification_report(targ_test, gaussian_svm.predict(diab_test)))"
   ]
  },
  {
   "cell_type": "markdown",
   "id": "b7e33d5d",
   "metadata": {},
   "source": [
    "##### create Kneighbors"
   ]
  },
  {
   "cell_type": "code",
   "execution_count": 18,
   "id": "a6f56154",
   "metadata": {},
   "outputs": [
    {
     "data": {
      "text/plain": [
       "KNeighborsClassifier()"
      ]
     },
     "execution_count": 18,
     "metadata": {},
     "output_type": "execute_result"
    }
   ],
   "source": [
    "knn = KNeighborsClassifier(n_neighbors=5)\n",
    "knn.fit(diab_train, targ_train)"
   ]
  },
  {
   "cell_type": "markdown",
   "id": "4b330243",
   "metadata": {},
   "source": [
    "##### predict Kneighbors"
   ]
  },
  {
   "cell_type": "code",
   "execution_count": 19,
   "id": "c97388b6",
   "metadata": {
    "scrolled": true
   },
   "outputs": [
    {
     "data": {
      "text/plain": [
       "array(['>30', 'NO', '<30', ..., 'NO', 'NO', 'NO'], dtype=object)"
      ]
     },
     "execution_count": 19,
     "metadata": {},
     "output_type": "execute_result"
    }
   ],
   "source": [
    "knn.predict(diab_train)"
   ]
  },
  {
   "cell_type": "markdown",
   "id": "e356d87a",
   "metadata": {},
   "source": [
    "##### classification_report with train set"
   ]
  },
  {
   "cell_type": "code",
   "execution_count": 20,
   "id": "f6faf9a6",
   "metadata": {},
   "outputs": [
    {
     "name": "stdout",
     "output_type": "stream",
     "text": [
      "              precision    recall  f1-score   support\n",
      "\n",
      "         <30       0.48      0.33      0.39       233\n",
      "         >30       0.57      0.63      0.60       704\n",
      "          NO       0.74      0.74      0.74      1098\n",
      "\n",
      "    accuracy                           0.66      2035\n",
      "   macro avg       0.60      0.57      0.58      2035\n",
      "weighted avg       0.65      0.66      0.65      2035\n",
      "\n"
     ]
    }
   ],
   "source": [
    "print(classification_report(targ_train, knn.predict(diab_train)))"
   ]
  },
  {
   "cell_type": "markdown",
   "id": "cd9d947d",
   "metadata": {},
   "source": [
    "##### classification_report with test set"
   ]
  },
  {
   "cell_type": "code",
   "execution_count": 21,
   "id": "a92fd874",
   "metadata": {
    "scrolled": true
   },
   "outputs": [
    {
     "name": "stdout",
     "output_type": "stream",
     "text": [
      "              precision    recall  f1-score   support\n",
      "\n",
      "         <30       0.13      0.08      0.10       932\n",
      "         >30       0.37      0.40      0.38      2816\n",
      "          NO       0.57      0.59      0.58      4393\n",
      "\n",
      "    accuracy                           0.47      8141\n",
      "   macro avg       0.36      0.36      0.36      8141\n",
      "weighted avg       0.45      0.47      0.46      8141\n",
      "\n"
     ]
    }
   ],
   "source": [
    "print(classification_report(targ_test, knn.predict(diab_test)))"
   ]
  },
  {
   "cell_type": "markdown",
   "id": "6bcf017f",
   "metadata": {},
   "source": [
    "##### let see how to detect abnormal data"
   ]
  },
  {
   "cell_type": "code",
   "execution_count": 22,
   "id": "55caac25",
   "metadata": {},
   "outputs": [
    {
     "data": {
      "text/plain": [
       "OneClassSVM(nu=0.02)"
      ]
     },
     "execution_count": 22,
     "metadata": {},
     "output_type": "execute_result"
    }
   ],
   "source": [
    "anomaly_detector = OneClassSVM(nu=0.02)\n",
    "anomaly_detector.fit(diab_train)"
   ]
  },
  {
   "cell_type": "code",
   "execution_count": 23,
   "id": "1e2f3411",
   "metadata": {},
   "outputs": [
    {
     "data": {
      "text/plain": [
       "0.9488943488943489"
      ]
     },
     "execution_count": 23,
     "metadata": {},
     "output_type": "execute_result"
    }
   ],
   "source": [
    "predictions = anomaly_detector.predict(diab_train)\n",
    "predictions.sum() / len(predictions)"
   ]
  }
 ],
 "metadata": {
  "kernelspec": {
   "display_name": "Python 3 (ipykernel)",
   "language": "python",
   "name": "python3"
  },
  "language_info": {
   "codemirror_mode": {
    "name": "ipython",
    "version": 3
   },
   "file_extension": ".py",
   "mimetype": "text/x-python",
   "name": "python",
   "nbconvert_exporter": "python",
   "pygments_lexer": "ipython3",
   "version": "3.8.10"
  }
 },
 "nbformat": 4,
 "nbformat_minor": 5
}
