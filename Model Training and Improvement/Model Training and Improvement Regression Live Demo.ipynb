{
 "cells": [
  {
   "cell_type": "markdown",
   "id": "978f6d06",
   "metadata": {},
   "source": [
    "##### imports"
   ]
  },
  {
   "cell_type": "code",
   "execution_count": 1,
   "id": "a0181b87",
   "metadata": {},
   "outputs": [],
   "source": [
    "%matplotlib inline\n",
    "import matplotlib.pyplot as plt\n",
    "import numpy as np\n",
    "import pandas as pd\n",
    "from sklearn.preprocessing import MinMaxScaler\n",
    "from sklearn.model_selection import train_test_split\n",
    "from sklearn.linear_model import LinearRegression, Ridge, Lasso, ElasticNet"
   ]
  },
  {
   "cell_type": "markdown",
   "id": "f296654b",
   "metadata": {},
   "source": [
    "# Model Training\n",
    "## Regression"
   ]
  },
  {
   "cell_type": "markdown",
   "id": "12d1eed5",
   "metadata": {},
   "source": [
    "##### read data"
   ]
  },
  {
   "cell_type": "code",
   "execution_count": 2,
   "id": "966df629",
   "metadata": {
    "scrolled": false
   },
   "outputs": [
    {
     "data": {
      "text/html": [
       "<div>\n",
       "<style scoped>\n",
       "    .dataframe tbody tr th:only-of-type {\n",
       "        vertical-align: middle;\n",
       "    }\n",
       "\n",
       "    .dataframe tbody tr th {\n",
       "        vertical-align: top;\n",
       "    }\n",
       "\n",
       "    .dataframe thead th {\n",
       "        text-align: right;\n",
       "    }\n",
       "</style>\n",
       "<table border=\"1\" class=\"dataframe\">\n",
       "  <thead>\n",
       "    <tr style=\"text-align: right;\">\n",
       "      <th></th>\n",
       "      <th>mpg</th>\n",
       "      <th>cylinders</th>\n",
       "      <th>displacement</th>\n",
       "      <th>horsepower</th>\n",
       "      <th>weight</th>\n",
       "      <th>acceleration</th>\n",
       "      <th>model year</th>\n",
       "      <th>origin</th>\n",
       "      <th>car name</th>\n",
       "    </tr>\n",
       "  </thead>\n",
       "  <tbody>\n",
       "    <tr>\n",
       "      <th>0</th>\n",
       "      <td>18.0</td>\n",
       "      <td>8</td>\n",
       "      <td>307.0</td>\n",
       "      <td>130.0</td>\n",
       "      <td>3504.0</td>\n",
       "      <td>12.0</td>\n",
       "      <td>70</td>\n",
       "      <td>1</td>\n",
       "      <td>\"chevrolet chevelle malibu\"</td>\n",
       "    </tr>\n",
       "    <tr>\n",
       "      <th>1</th>\n",
       "      <td>15.0</td>\n",
       "      <td>8</td>\n",
       "      <td>350.0</td>\n",
       "      <td>165.0</td>\n",
       "      <td>3693.0</td>\n",
       "      <td>11.5</td>\n",
       "      <td>70</td>\n",
       "      <td>1</td>\n",
       "      <td>\"buick skylark 320\"</td>\n",
       "    </tr>\n",
       "    <tr>\n",
       "      <th>2</th>\n",
       "      <td>18.0</td>\n",
       "      <td>8</td>\n",
       "      <td>318.0</td>\n",
       "      <td>150.0</td>\n",
       "      <td>3436.0</td>\n",
       "      <td>11.0</td>\n",
       "      <td>70</td>\n",
       "      <td>1</td>\n",
       "      <td>\"plymouth satellite\"</td>\n",
       "    </tr>\n",
       "    <tr>\n",
       "      <th>3</th>\n",
       "      <td>16.0</td>\n",
       "      <td>8</td>\n",
       "      <td>304.0</td>\n",
       "      <td>150.0</td>\n",
       "      <td>3433.0</td>\n",
       "      <td>12.0</td>\n",
       "      <td>70</td>\n",
       "      <td>1</td>\n",
       "      <td>\"amc rebel sst\"</td>\n",
       "    </tr>\n",
       "    <tr>\n",
       "      <th>4</th>\n",
       "      <td>17.0</td>\n",
       "      <td>8</td>\n",
       "      <td>302.0</td>\n",
       "      <td>140.0</td>\n",
       "      <td>3449.0</td>\n",
       "      <td>10.5</td>\n",
       "      <td>70</td>\n",
       "      <td>1</td>\n",
       "      <td>\"ford torino\"</td>\n",
       "    </tr>\n",
       "    <tr>\n",
       "      <th>...</th>\n",
       "      <td>...</td>\n",
       "      <td>...</td>\n",
       "      <td>...</td>\n",
       "      <td>...</td>\n",
       "      <td>...</td>\n",
       "      <td>...</td>\n",
       "      <td>...</td>\n",
       "      <td>...</td>\n",
       "      <td>...</td>\n",
       "    </tr>\n",
       "    <tr>\n",
       "      <th>393</th>\n",
       "      <td>27.0</td>\n",
       "      <td>4</td>\n",
       "      <td>140.0</td>\n",
       "      <td>86.00</td>\n",
       "      <td>2790.0</td>\n",
       "      <td>15.6</td>\n",
       "      <td>82</td>\n",
       "      <td>1</td>\n",
       "      <td>\"ford mustang gl\"</td>\n",
       "    </tr>\n",
       "    <tr>\n",
       "      <th>394</th>\n",
       "      <td>44.0</td>\n",
       "      <td>4</td>\n",
       "      <td>97.0</td>\n",
       "      <td>52.00</td>\n",
       "      <td>2130.0</td>\n",
       "      <td>24.6</td>\n",
       "      <td>82</td>\n",
       "      <td>2</td>\n",
       "      <td>\"vw pickup\"</td>\n",
       "    </tr>\n",
       "    <tr>\n",
       "      <th>395</th>\n",
       "      <td>32.0</td>\n",
       "      <td>4</td>\n",
       "      <td>135.0</td>\n",
       "      <td>84.00</td>\n",
       "      <td>2295.0</td>\n",
       "      <td>11.6</td>\n",
       "      <td>82</td>\n",
       "      <td>1</td>\n",
       "      <td>\"dodge rampage\"</td>\n",
       "    </tr>\n",
       "    <tr>\n",
       "      <th>396</th>\n",
       "      <td>28.0</td>\n",
       "      <td>4</td>\n",
       "      <td>120.0</td>\n",
       "      <td>79.00</td>\n",
       "      <td>2625.0</td>\n",
       "      <td>18.6</td>\n",
       "      <td>82</td>\n",
       "      <td>1</td>\n",
       "      <td>\"ford ranger\"</td>\n",
       "    </tr>\n",
       "    <tr>\n",
       "      <th>397</th>\n",
       "      <td>31.0</td>\n",
       "      <td>4</td>\n",
       "      <td>119.0</td>\n",
       "      <td>82.00</td>\n",
       "      <td>2720.0</td>\n",
       "      <td>19.4</td>\n",
       "      <td>82</td>\n",
       "      <td>1</td>\n",
       "      <td>\"chevy s-10\"</td>\n",
       "    </tr>\n",
       "  </tbody>\n",
       "</table>\n",
       "<p>398 rows × 9 columns</p>\n",
       "</div>"
      ],
      "text/plain": [
       "      mpg  cylinders  displacement horsepower  weight  acceleration  \\\n",
       "0    18.0          8         307.0      130.0  3504.0          12.0   \n",
       "1    15.0          8         350.0      165.0  3693.0          11.5   \n",
       "2    18.0          8         318.0      150.0  3436.0          11.0   \n",
       "3    16.0          8         304.0      150.0  3433.0          12.0   \n",
       "4    17.0          8         302.0      140.0  3449.0          10.5   \n",
       "..    ...        ...           ...        ...     ...           ...   \n",
       "393  27.0          4         140.0      86.00  2790.0          15.6   \n",
       "394  44.0          4          97.0      52.00  2130.0          24.6   \n",
       "395  32.0          4         135.0      84.00  2295.0          11.6   \n",
       "396  28.0          4         120.0      79.00  2625.0          18.6   \n",
       "397  31.0          4         119.0      82.00  2720.0          19.4   \n",
       "\n",
       "     model year  origin                     car name  \n",
       "0            70       1  \"chevrolet chevelle malibu\"  \n",
       "1            70       1          \"buick skylark 320\"  \n",
       "2            70       1         \"plymouth satellite\"  \n",
       "3            70       1              \"amc rebel sst\"  \n",
       "4            70       1                \"ford torino\"  \n",
       "..          ...     ...                          ...  \n",
       "393          82       1            \"ford mustang gl\"  \n",
       "394          82       2                  \"vw pickup\"  \n",
       "395          82       1              \"dodge rampage\"  \n",
       "396          82       1                \"ford ranger\"  \n",
       "397          82       1                 \"chevy s-10\"  \n",
       "\n",
       "[398 rows x 9 columns]"
      ]
     },
     "execution_count": 2,
     "metadata": {},
     "output_type": "execute_result"
    }
   ],
   "source": [
    "mpg_data = pd.read_fwf('data/auto-mpg.data', header=None)\n",
    "mpg_data.columns = [\n",
    "    'mpg', \n",
    "    'cylinders', \n",
    "    'displacement', \n",
    "    'horsepower', \n",
    "    'weight', \n",
    "    'acceleration', \n",
    "    'model year', \n",
    "    'origin', \n",
    "    'car name',\n",
    "]\n",
    "mpg_data"
   ]
  },
  {
   "cell_type": "markdown",
   "id": "f5f1837e",
   "metadata": {},
   "source": [
    "##### check all dtypes"
   ]
  },
  {
   "cell_type": "code",
   "execution_count": 3,
   "id": "9534c0e0",
   "metadata": {
    "scrolled": false
   },
   "outputs": [
    {
     "data": {
      "text/plain": [
       "mpg             float64\n",
       "cylinders         int64\n",
       "displacement    float64\n",
       "horsepower       object\n",
       "weight          float64\n",
       "acceleration    float64\n",
       "model year        int64\n",
       "origin            int64\n",
       "car name         object\n",
       "dtype: object"
      ]
     },
     "execution_count": 3,
     "metadata": {},
     "output_type": "execute_result"
    }
   ],
   "source": [
    "mpg_data.dtypes # horsepower must be float"
   ]
  },
  {
   "cell_type": "markdown",
   "id": "2e4bb468",
   "metadata": {},
   "source": [
    "##### check why horsepower is obj but not float64"
   ]
  },
  {
   "cell_type": "code",
   "execution_count": 4,
   "id": "92168e8d",
   "metadata": {
    "scrolled": true
   },
   "outputs": [
    {
     "data": {
      "text/plain": [
       "array(['130.0', '165.0', '150.0', '140.0', '198.0', '220.0', '215.0',\n",
       "       '225.0', '190.0', '170.0', '160.0', '95.00', '97.00', '85.00',\n",
       "       '88.00', '46.00', '87.00', '90.00', '113.0', '200.0', '210.0',\n",
       "       '193.0', '?', '100.0', '105.0', '175.0', '153.0', '180.0', '110.0',\n",
       "       '72.00', '86.00', '70.00', '76.00', '65.00', '69.00', '60.00',\n",
       "       '80.00', '54.00', '208.0', '155.0', '112.0', '92.00', '145.0',\n",
       "       '137.0', '158.0', '167.0', '94.00', '107.0', '230.0', '49.00',\n",
       "       '75.00', '91.00', '122.0', '67.00', '83.00', '78.00', '52.00',\n",
       "       '61.00', '93.00', '148.0', '129.0', '96.00', '71.00', '98.00',\n",
       "       '115.0', '53.00', '81.00', '79.00', '120.0', '152.0', '102.0',\n",
       "       '108.0', '68.00', '58.00', '149.0', '89.00', '63.00', '48.00',\n",
       "       '66.00', '139.0', '103.0', '125.0', '133.0', '138.0', '135.0',\n",
       "       '142.0', '77.00', '62.00', '132.0', '84.00', '64.00', '74.00',\n",
       "       '116.0', '82.00'], dtype=object)"
      ]
     },
     "execution_count": 4,
     "metadata": {},
     "output_type": "execute_result"
    }
   ],
   "source": [
    "mpg_data['horsepower'].unique() # there is a '?' in the dataset"
   ]
  },
  {
   "cell_type": "markdown",
   "id": "e68dd22c",
   "metadata": {},
   "source": [
    "##### check once again where there is '?' in the dataset"
   ]
  },
  {
   "cell_type": "code",
   "execution_count": 5,
   "id": "7e6a1455",
   "metadata": {
    "scrolled": false
   },
   "outputs": [
    {
     "data": {
      "text/html": [
       "<div>\n",
       "<style scoped>\n",
       "    .dataframe tbody tr th:only-of-type {\n",
       "        vertical-align: middle;\n",
       "    }\n",
       "\n",
       "    .dataframe tbody tr th {\n",
       "        vertical-align: top;\n",
       "    }\n",
       "\n",
       "    .dataframe thead th {\n",
       "        text-align: right;\n",
       "    }\n",
       "</style>\n",
       "<table border=\"1\" class=\"dataframe\">\n",
       "  <thead>\n",
       "    <tr style=\"text-align: right;\">\n",
       "      <th></th>\n",
       "      <th>mpg</th>\n",
       "      <th>cylinders</th>\n",
       "      <th>displacement</th>\n",
       "      <th>horsepower</th>\n",
       "      <th>weight</th>\n",
       "      <th>acceleration</th>\n",
       "      <th>model year</th>\n",
       "      <th>origin</th>\n",
       "      <th>car name</th>\n",
       "    </tr>\n",
       "  </thead>\n",
       "  <tbody>\n",
       "    <tr>\n",
       "      <th>32</th>\n",
       "      <td>25.0</td>\n",
       "      <td>4</td>\n",
       "      <td>98.0</td>\n",
       "      <td>?</td>\n",
       "      <td>2046.0</td>\n",
       "      <td>19.0</td>\n",
       "      <td>71</td>\n",
       "      <td>1</td>\n",
       "      <td>\"ford pinto\"</td>\n",
       "    </tr>\n",
       "    <tr>\n",
       "      <th>126</th>\n",
       "      <td>21.0</td>\n",
       "      <td>6</td>\n",
       "      <td>200.0</td>\n",
       "      <td>?</td>\n",
       "      <td>2875.0</td>\n",
       "      <td>17.0</td>\n",
       "      <td>74</td>\n",
       "      <td>1</td>\n",
       "      <td>\"ford maverick\"</td>\n",
       "    </tr>\n",
       "    <tr>\n",
       "      <th>330</th>\n",
       "      <td>40.9</td>\n",
       "      <td>4</td>\n",
       "      <td>85.0</td>\n",
       "      <td>?</td>\n",
       "      <td>1835.0</td>\n",
       "      <td>17.3</td>\n",
       "      <td>80</td>\n",
       "      <td>2</td>\n",
       "      <td>\"renault lecar deluxe\"</td>\n",
       "    </tr>\n",
       "    <tr>\n",
       "      <th>336</th>\n",
       "      <td>23.6</td>\n",
       "      <td>4</td>\n",
       "      <td>140.0</td>\n",
       "      <td>?</td>\n",
       "      <td>2905.0</td>\n",
       "      <td>14.3</td>\n",
       "      <td>80</td>\n",
       "      <td>1</td>\n",
       "      <td>\"ford mustang cobra\"</td>\n",
       "    </tr>\n",
       "    <tr>\n",
       "      <th>354</th>\n",
       "      <td>34.5</td>\n",
       "      <td>4</td>\n",
       "      <td>100.0</td>\n",
       "      <td>?</td>\n",
       "      <td>2320.0</td>\n",
       "      <td>15.8</td>\n",
       "      <td>81</td>\n",
       "      <td>2</td>\n",
       "      <td>\"renault 18i\"</td>\n",
       "    </tr>\n",
       "    <tr>\n",
       "      <th>374</th>\n",
       "      <td>23.0</td>\n",
       "      <td>4</td>\n",
       "      <td>151.0</td>\n",
       "      <td>?</td>\n",
       "      <td>3035.0</td>\n",
       "      <td>20.5</td>\n",
       "      <td>82</td>\n",
       "      <td>1</td>\n",
       "      <td>\"amc concord dl\"</td>\n",
       "    </tr>\n",
       "  </tbody>\n",
       "</table>\n",
       "</div>"
      ],
      "text/plain": [
       "      mpg  cylinders  displacement horsepower  weight  acceleration  \\\n",
       "32   25.0          4          98.0          ?  2046.0          19.0   \n",
       "126  21.0          6         200.0          ?  2875.0          17.0   \n",
       "330  40.9          4          85.0          ?  1835.0          17.3   \n",
       "336  23.6          4         140.0          ?  2905.0          14.3   \n",
       "354  34.5          4         100.0          ?  2320.0          15.8   \n",
       "374  23.0          4         151.0          ?  3035.0          20.5   \n",
       "\n",
       "     model year  origin                car name  \n",
       "32           71       1            \"ford pinto\"  \n",
       "126          74       1         \"ford maverick\"  \n",
       "330          80       2  \"renault lecar deluxe\"  \n",
       "336          80       1    \"ford mustang cobra\"  \n",
       "354          81       2           \"renault 18i\"  \n",
       "374          82       1        \"amc concord dl\"  "
      ]
     },
     "execution_count": 5,
     "metadata": {},
     "output_type": "execute_result"
    }
   ],
   "source": [
    "mpg_data[mpg_data['horsepower'] == '?']"
   ]
  },
  {
   "cell_type": "markdown",
   "id": "318a0d2b",
   "metadata": {},
   "source": [
    "##### replace '?' with float -> 0"
   ]
  },
  {
   "cell_type": "code",
   "execution_count": 6,
   "id": "58b62763",
   "metadata": {
    "scrolled": true
   },
   "outputs": [],
   "source": [
    "mpg_data['horsepower'].where(lambda x: x != '?', other=0, inplace=True)\n",
    "# mpg_data['horsepower'].replace({'?': 0}, inplace=True)"
   ]
  },
  {
   "cell_type": "markdown",
   "id": "f700c090",
   "metadata": {},
   "source": [
    "##### convert the dtype from obj to float64"
   ]
  },
  {
   "cell_type": "code",
   "execution_count": 7,
   "id": "069921d1",
   "metadata": {},
   "outputs": [],
   "source": [
    "mpg_data['horsepower'] = mpg_data['horsepower'].astype(np.float64)"
   ]
  },
  {
   "cell_type": "markdown",
   "id": "8855594b",
   "metadata": {},
   "source": [
    "##### check again is there a '?' sign"
   ]
  },
  {
   "cell_type": "code",
   "execution_count": 8,
   "id": "4a08c820",
   "metadata": {},
   "outputs": [
    {
     "data": {
      "text/html": [
       "<div>\n",
       "<style scoped>\n",
       "    .dataframe tbody tr th:only-of-type {\n",
       "        vertical-align: middle;\n",
       "    }\n",
       "\n",
       "    .dataframe tbody tr th {\n",
       "        vertical-align: top;\n",
       "    }\n",
       "\n",
       "    .dataframe thead th {\n",
       "        text-align: right;\n",
       "    }\n",
       "</style>\n",
       "<table border=\"1\" class=\"dataframe\">\n",
       "  <thead>\n",
       "    <tr style=\"text-align: right;\">\n",
       "      <th></th>\n",
       "      <th>mpg</th>\n",
       "      <th>cylinders</th>\n",
       "      <th>displacement</th>\n",
       "      <th>horsepower</th>\n",
       "      <th>weight</th>\n",
       "      <th>acceleration</th>\n",
       "      <th>model year</th>\n",
       "      <th>origin</th>\n",
       "      <th>car name</th>\n",
       "    </tr>\n",
       "  </thead>\n",
       "  <tbody>\n",
       "  </tbody>\n",
       "</table>\n",
       "</div>"
      ],
      "text/plain": [
       "Empty DataFrame\n",
       "Columns: [mpg, cylinders, displacement, horsepower, weight, acceleration, model year, origin, car name]\n",
       "Index: []"
      ]
     },
     "execution_count": 8,
     "metadata": {},
     "output_type": "execute_result"
    }
   ],
   "source": [
    "mpg_data[mpg_data['horsepower'] == '?']"
   ]
  },
  {
   "cell_type": "code",
   "execution_count": 9,
   "id": "354021d3",
   "metadata": {
    "scrolled": true
   },
   "outputs": [
    {
     "data": {
      "text/plain": [
       "array([130., 165., 150., 140., 198., 220., 215., 225., 190., 170., 160.,\n",
       "        95.,  97.,  85.,  88.,  46.,  87.,  90., 113., 200., 210., 193.,\n",
       "         0., 100., 105., 175., 153., 180., 110.,  72.,  86.,  70.,  76.,\n",
       "        65.,  69.,  60.,  80.,  54., 208., 155., 112.,  92., 145., 137.,\n",
       "       158., 167.,  94., 107., 230.,  49.,  75.,  91., 122.,  67.,  83.,\n",
       "        78.,  52.,  61.,  93., 148., 129.,  96.,  71.,  98., 115.,  53.,\n",
       "        81.,  79., 120., 152., 102., 108.,  68.,  58., 149.,  89.,  63.,\n",
       "        48.,  66., 139., 103., 125., 133., 138., 135., 142.,  77.,  62.,\n",
       "       132.,  84.,  64.,  74., 116.,  82.])"
      ]
     },
     "execution_count": 9,
     "metadata": {},
     "output_type": "execute_result"
    }
   ],
   "source": [
    "mpg_data['horsepower'].unique()"
   ]
  },
  {
   "cell_type": "markdown",
   "id": "6ed5961a",
   "metadata": {},
   "source": [
    "##### check the dtypes again"
   ]
  },
  {
   "cell_type": "code",
   "execution_count": 10,
   "id": "11d86e5a",
   "metadata": {
    "scrolled": false
   },
   "outputs": [
    {
     "data": {
      "text/plain": [
       "mpg             float64\n",
       "cylinders         int64\n",
       "displacement    float64\n",
       "horsepower      float64\n",
       "weight          float64\n",
       "acceleration    float64\n",
       "model year        int64\n",
       "origin            int64\n",
       "car name         object\n",
       "dtype: object"
      ]
     },
     "execution_count": 10,
     "metadata": {},
     "output_type": "execute_result"
    }
   ],
   "source": [
    "mpg_data.dtypes"
   ]
  },
  {
   "cell_type": "markdown",
   "id": "cbf3c746",
   "metadata": {},
   "source": [
    "##### remove feature 'car name' -> we don't need it in the model"
   ]
  },
  {
   "cell_type": "code",
   "execution_count": 11,
   "id": "0c51fe33",
   "metadata": {},
   "outputs": [],
   "source": [
    "mpg_data = mpg_data.drop('car name', axis=1)"
   ]
  },
  {
   "cell_type": "markdown",
   "id": "aa9b9390",
   "metadata": {},
   "source": [
    "##### separate attributes and targets from the dataset"
   ]
  },
  {
   "cell_type": "code",
   "execution_count": 12,
   "id": "01c86520",
   "metadata": {},
   "outputs": [],
   "source": [
    "mpg_data_attr = mpg_data.drop('mpg', axis=1)\n",
    "mpg_data_trg = mpg_data['mpg']"
   ]
  },
  {
   "cell_type": "markdown",
   "id": "1212c195",
   "metadata": {},
   "source": [
    "##### scaling the attributes"
   ]
  },
  {
   "cell_type": "code",
   "execution_count": 13,
   "id": "646230c7",
   "metadata": {
    "scrolled": true
   },
   "outputs": [],
   "source": [
    "scalar = MinMaxScaler()\n",
    "mpg_data_attr_scaled = scalar.fit_transform(mpg_data_attr)"
   ]
  },
  {
   "cell_type": "markdown",
   "id": "da5b4cc9",
   "metadata": {},
   "source": [
    "##### check the scaling is ok -> min must be 0 and max must be 1"
   ]
  },
  {
   "cell_type": "code",
   "execution_count": 14,
   "id": "68cab59d",
   "metadata": {},
   "outputs": [
    {
     "data": {
      "text/plain": [
       "(array([0., 0., 0., 0., 0., 0., 0.]), array([1., 1., 1., 1., 1., 1., 1.]))"
      ]
     },
     "execution_count": 14,
     "metadata": {},
     "output_type": "execute_result"
    }
   ],
   "source": [
    "mpg_data_attr_scaled.min(axis=0), mpg_data_attr_scaled.max(axis=0)"
   ]
  },
  {
   "cell_type": "markdown",
   "id": "6360155f",
   "metadata": {},
   "source": [
    "##### create linear regression model"
   ]
  },
  {
   "cell_type": "code",
   "execution_count": 15,
   "id": "a518ade2",
   "metadata": {},
   "outputs": [
    {
     "data": {
      "text/plain": [
       "LinearRegression()"
      ]
     },
     "execution_count": 15,
     "metadata": {},
     "output_type": "execute_result"
    }
   ],
   "source": [
    "lr_model = LinearRegression()\n",
    "lr_model.fit(mpg_data_attr_scaled, mpg_data_trg)"
   ]
  },
  {
   "cell_type": "markdown",
   "id": "b90eee92",
   "metadata": {},
   "source": [
    "##### check the score from lr -> must be 0-1 (it is better if it is higher)"
   ]
  },
  {
   "cell_type": "code",
   "execution_count": 16,
   "id": "f54ed60f",
   "metadata": {},
   "outputs": [
    {
     "data": {
      "text/plain": [
       "0.8210036685139731"
      ]
     },
     "execution_count": 16,
     "metadata": {},
     "output_type": "execute_result"
    }
   ],
   "source": [
    "lr_model.score(mpg_data_attr_scaled, mpg_data_trg)"
   ]
  },
  {
   "cell_type": "markdown",
   "id": "3dd3e130",
   "metadata": {},
   "source": [
    "##### apply regularization L2 -> Ridge "
   ]
  },
  {
   "cell_type": "code",
   "execution_count": 17,
   "id": "8cebeb74",
   "metadata": {},
   "outputs": [
    {
     "data": {
      "text/plain": [
       "Ridge(alpha=0.1)"
      ]
     },
     "execution_count": 17,
     "metadata": {},
     "output_type": "execute_result"
    }
   ],
   "source": [
    "l2_regr = Ridge(alpha=0.1)\n",
    "l2_regr.fit(mpg_data_attr_scaled, mpg_data_trg)"
   ]
  },
  {
   "cell_type": "markdown",
   "id": "02c60cf0",
   "metadata": {},
   "source": [
    "##### check the score from l2 -> must be 0-1 (it is better if it is higher)"
   ]
  },
  {
   "cell_type": "code",
   "execution_count": 18,
   "id": "d026a327",
   "metadata": {},
   "outputs": [
    {
     "data": {
      "text/plain": [
       "0.8208660672478484"
      ]
     },
     "execution_count": 18,
     "metadata": {},
     "output_type": "execute_result"
    }
   ],
   "source": [
    "l2_regr.score(mpg_data_attr_scaled, mpg_data_trg)"
   ]
  },
  {
   "cell_type": "markdown",
   "id": "5d77e9ce",
   "metadata": {},
   "source": [
    "##### apply regularization L1 -> Lasso (here the reg makes feature selction and make some values = 0)"
   ]
  },
  {
   "cell_type": "code",
   "execution_count": 19,
   "id": "9f094d49",
   "metadata": {},
   "outputs": [
    {
     "data": {
      "text/plain": [
       "Lasso(alpha=0.1)"
      ]
     },
     "execution_count": 19,
     "metadata": {},
     "output_type": "execute_result"
    }
   ],
   "source": [
    "l1_regr = Lasso(alpha=0.1)\n",
    "l1_regr.fit(mpg_data_attr_scaled, mpg_data_trg)"
   ]
  },
  {
   "cell_type": "markdown",
   "id": "4c7376a0",
   "metadata": {},
   "source": [
    "##### check the score from l1 -> must be 0-1 (it is better if it is higher)"
   ]
  },
  {
   "cell_type": "code",
   "execution_count": 20,
   "id": "35494eb0",
   "metadata": {},
   "outputs": [
    {
     "data": {
      "text/plain": [
       "0.8130067230680705"
      ]
     },
     "execution_count": 20,
     "metadata": {},
     "output_type": "execute_result"
    }
   ],
   "source": [
    "l1_regr.score(mpg_data_attr_scaled, mpg_data_trg)"
   ]
  },
  {
   "cell_type": "markdown",
   "id": "6a4b67f2",
   "metadata": {},
   "source": [
    "##### apply both L1 and L2"
   ]
  },
  {
   "cell_type": "code",
   "execution_count": 21,
   "id": "ef0682dd",
   "metadata": {},
   "outputs": [
    {
     "data": {
      "text/plain": [
       "ElasticNet(alpha=0.01, l1_ratio=0.01)"
      ]
     },
     "execution_count": 21,
     "metadata": {},
     "output_type": "execute_result"
    }
   ],
   "source": [
    "l12_regr = ElasticNet(alpha=0.01, l1_ratio=0.01)\n",
    "l12_regr.fit(mpg_data_attr_scaled, mpg_data_trg)"
   ]
  },
  {
   "cell_type": "markdown",
   "id": "eb536c0c",
   "metadata": {},
   "source": [
    "##### check the score"
   ]
  },
  {
   "cell_type": "code",
   "execution_count": 22,
   "id": "7f36cc14",
   "metadata": {
    "scrolled": true
   },
   "outputs": [
    {
     "data": {
      "text/plain": [
       "0.8020923988283815"
      ]
     },
     "execution_count": 22,
     "metadata": {},
     "output_type": "execute_result"
    }
   ],
   "source": [
    "l12_regr.score(mpg_data_attr_scaled, mpg_data_trg)"
   ]
  },
  {
   "cell_type": "markdown",
   "id": "04ab7e89",
   "metadata": {},
   "source": [
    "##### split the data for train test and set train_size=0.7 (70% form the data)"
   ]
  },
  {
   "cell_type": "code",
   "execution_count": 23,
   "id": "38e8c535",
   "metadata": {
    "scrolled": true
   },
   "outputs": [],
   "source": [
    "mpg_attr_train, mpg_attr_test, mpg_trg_train, mpg_trg_test = train_test_split(\n",
    "                                                                    mpg_data_attr_scaled, \n",
    "                                                                    mpg_data_trg, \n",
    "                                                                    train_size=0.7,\n",
    "                                                                    random_state=30)"
   ]
  },
  {
   "cell_type": "markdown",
   "id": "b9eaacc5",
   "metadata": {},
   "source": [
    "##### check the split data shape"
   ]
  },
  {
   "cell_type": "code",
   "execution_count": 24,
   "id": "67d87195",
   "metadata": {},
   "outputs": [
    {
     "data": {
      "text/plain": [
       "((278, 7), (120, 7))"
      ]
     },
     "execution_count": 24,
     "metadata": {},
     "output_type": "execute_result"
    }
   ],
   "source": [
    "mpg_attr_train.shape, mpg_attr_test.shape"
   ]
  },
  {
   "cell_type": "code",
   "execution_count": 25,
   "id": "3b851ab7",
   "metadata": {},
   "outputs": [
    {
     "data": {
      "text/plain": [
       "((278,), (120,))"
      ]
     },
     "execution_count": 25,
     "metadata": {},
     "output_type": "execute_result"
    }
   ],
   "source": [
    "mpg_trg_train.shape, mpg_trg_test.shape"
   ]
  },
  {
   "cell_type": "markdown",
   "id": "edfbf690",
   "metadata": {},
   "source": [
    "##### train the model with data that its have been seen"
   ]
  },
  {
   "cell_type": "code",
   "execution_count": 26,
   "id": "ede2dd85",
   "metadata": {},
   "outputs": [
    {
     "data": {
      "text/plain": [
       "LinearRegression()"
      ]
     },
     "execution_count": 26,
     "metadata": {},
     "output_type": "execute_result"
    }
   ],
   "source": [
    "lr_model_tt = LinearRegression()\n",
    "lr_model_tt.fit(mpg_attr_train, mpg_trg_train)"
   ]
  },
  {
   "cell_type": "markdown",
   "id": "ec5455db",
   "metadata": {},
   "source": [
    "##### check the score from the train"
   ]
  },
  {
   "cell_type": "code",
   "execution_count": 27,
   "id": "9d81b994",
   "metadata": {},
   "outputs": [
    {
     "data": {
      "text/plain": [
       "0.8371687597900324"
      ]
     },
     "execution_count": 27,
     "metadata": {},
     "output_type": "execute_result"
    }
   ],
   "source": [
    "lr_model_tt.score(mpg_attr_train, mpg_trg_train)"
   ]
  },
  {
   "cell_type": "markdown",
   "id": "bef9d70b",
   "metadata": {},
   "source": [
    "##### ckeck the score with data that its not have been seen"
   ]
  },
  {
   "cell_type": "code",
   "execution_count": 28,
   "id": "a904d473",
   "metadata": {},
   "outputs": [
    {
     "data": {
      "text/plain": [
       "0.7744482740237989"
      ]
     },
     "execution_count": 28,
     "metadata": {},
     "output_type": "execute_result"
    }
   ],
   "source": [
    "lr_model_tt.score(mpg_attr_test, mpg_trg_test)"
   ]
  },
  {
   "cell_type": "markdown",
   "id": "5e7b9747",
   "metadata": {},
   "source": [
    "##### Let compare the predicted vals and the original vals"
   ]
  },
  {
   "cell_type": "code",
   "execution_count": 29,
   "id": "62d21d0a",
   "metadata": {},
   "outputs": [],
   "source": [
    "mpg_predicted = lr_model_tt.predict(mpg_attr_test)"
   ]
  },
  {
   "cell_type": "code",
   "execution_count": 30,
   "id": "056c99de",
   "metadata": {},
   "outputs": [
    {
     "data": {
      "image/png": "[encoded data removed]",
      "text/plain": [
       "<Figure size 432x288 with 1 Axes>"
      ]
     },
     "metadata": {
      "needs_background": "light"
     },
     "output_type": "display_data"
    }
   ],
   "source": [
    "plt.hist(mpg_trg_test, alpha=0.7)\n",
    "plt.hist(mpg_predicted, alpha=0.7)\n",
    "plt.show()"
   ]
  },
  {
   "cell_type": "code",
   "execution_count": 31,
   "id": "1959711f",
   "metadata": {
    "scrolled": true
   },
   "outputs": [
    {
     "data": {
      "image/png": "[encoded data removed]",
      "text/plain": [
       "<Figure size 432x288 with 1 Axes>"
      ]
     },
     "metadata": {
      "needs_background": "light"
     },
     "output_type": "display_data"
    }
   ],
   "source": [
    "plt.hist(mpg_predicted-mpg_trg_test, bins='fd')\n",
    "plt.axvline(0, c='r')\n",
    "plt.show()"
   ]
  },
  {
   "cell_type": "code",
   "execution_count": 32,
   "id": "19b69edd",
   "metadata": {
    "scrolled": true
   },
   "outputs": [
    {
     "data": {
      "image/png": "[encoded data removed]",
      "text/plain": [
       "<Figure size 432x288 with 1 Axes>"
      ]
     },
     "metadata": {
      "needs_background": "light"
     },
     "output_type": "display_data"
    }
   ],
   "source": [
    "plt.scatter(mpg_trg_test, mpg_predicted)\n",
    "plt.show()"
   ]
  },
  {
   "cell_type": "code",
   "execution_count": 33,
   "id": "99c8f716",
   "metadata": {
    "scrolled": false
   },
   "outputs": [
    {
     "data": {
      "image/png": "[encoded data removed]",
      "text/plain": [
       "<Figure size 432x288 with 1 Axes>"
      ]
     },
     "metadata": {
      "needs_background": "light"
     },
     "output_type": "display_data"
    }
   ],
   "source": [
    "plt.scatter(mpg_predicted, mpg_predicted-mpg_trg_test)\n",
    "plt.axhline(0, c='r')\n",
    "plt.show()"
   ]
  },
  {
   "cell_type": "markdown",
   "id": "fb97e3a2",
   "metadata": {},
   "source": [
    "##### conclusion -> this model has high bias (underfited)"
   ]
  }
 ],
 "metadata": {
  "kernelspec": {
   "display_name": "Python 3 (ipykernel)",
   "language": "python",
   "name": "python3"
  },
  "language_info": {
   "codemirror_mode": {
    "name": "ipython",
    "version": 3
   },
   "file_extension": ".py",
   "mimetype": "text/x-python",
   "name": "python",
   "nbconvert_exporter": "python",
   "pygments_lexer": "ipython3",
   "version": "3.8.10"
  }
 },
 "nbformat": 4,
 "nbformat_minor": 5
}
